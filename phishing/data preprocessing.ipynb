version https://git-lfs.github.com/spec/v1
oid sha256:3e2ae18ca1b747a41e215038a35dd5b8fd0074caf66da1f99d65e6c493897434
size 24912
